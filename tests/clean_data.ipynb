{
 "cells": [
  {
   "cell_type": "code",
   "execution_count": 2,
   "metadata": {},
   "outputs": [],
   "source": [
    "import pandas as pd\n",
    "import numpy as np\n",
    "from datetime import datetime\n",
    "import re\n",
    "import json\n",
    "import os\n",
    "import geocoder \n",
    "\n",
    "\n",
    "# https://www.bingmapsportal.com; https://geocoder.readthedocs.io/providers/Bing.html\n",
    "global BING_MAPS_KEY\n",
    "BING_MAPS_KEY = os.environ.get('BING_MAPS')\n",
    "\n",
    "def getLatLon(location):\n",
    "    try:\n",
    "        g = geocoder.bing(location, key=BING_MAPS_KEY)\n",
    "        results = g.json\n",
    "        return (results['lng'], results['lat'])\n",
    "    except Exception as e:\n",
    "        print('Error: {}'.format(e))\n",
    "        return 'Location Not Found'\n",
    "\n",
    "def evalCoord(coord):\n",
    "    return eval(coord)\n",
    "\n",
    "\n",
    "def toMinutes(t):\n",
    "    tl = t.split(' ')\n",
    "    unit = tl[-1]\n",
    "    try:\n",
    "        if unit == 'minutes':\n",
    "            return float(tl[0])\n",
    "        elif unit == 'seconds':\n",
    "            return float(tl[0]) / 60\n",
    "        elif unit == 'hours':\n",
    "            return float(tl[0]) * 60\n",
    "    except:\n",
    "        print(tl)\n",
    "        return t\n",
    "\n",
    "def cleanTable(file):\n",
    "    \"\"\"\n",
    "    Clean dataframe of UFO sightings\n",
    "    \"\"\"\n",
    "    # read data\n",
    "    df = pd.read_csv(\n",
    "        file, \n",
    "        parse_dates=['Date / Time', 'Posted'],\n",
    "        dtype={\n",
    "            'Country':str, \n",
    "            'State':str, \n",
    "            'City':str,\n",
    "            'Shape':str, \n",
    "            'Duration':str,\n",
    "            'Summary':str,\n",
    "            'Images':str\n",
    "            })\n",
    "    # filter columns; rename\n",
    "    df = df.rename(columns={'Date / Time': 'Timestamp'})\n",
    "    # filter to USA (excluding minor outlying islands)\n",
    "    df = df.loc[df.Country == 'USA'].reset_index(\n",
    "        drop=True).drop(columns='Country')\n",
    "    # read json duration data\n",
    "    with open('../src/data/durations.json') as f:\n",
    "        durations = json.loads(f.read())\n",
    "        f.close()\n",
    "    # map to `Updated_Duration`; impute null with median\n",
    "    df[\"Updated_Duration\"] = df.Duration.map(durations).replace({'nan': np.nan})\n",
    "    df.loc[~df.Updated_Duration.isna(), 'Updated_Duration'] = df.loc[~df.Updated_Duration.isna()].Updated_Duration.apply(toMinutes)\n",
    "    df.loc[df.Updated_Duration.isna(), 'Updated_Duration'] = np.median(df.Updated_Duration.values)\n",
    "    # get lat lon\n",
    "    if os.path.exists('data/locations.csv'):\n",
    "        locations = pd.read_csv('data/locations.csv')\n",
    "        df['Coords'] = locations.Coords.apply(evalCoord)\n",
    "        pass\n",
    "    else:\n",
    "        df['Coords'] = (df.City + ', ' + df.State).apply(getLatLon)\n",
    "        df[['City', 'State', 'Coords']].to_csv('data/locations.csv', index=False)\n",
    "    return df\n",
    "\n",
    "\n",
    "date_start = '202107'\n",
    "date_end = '202206'\n",
    "file = \"../src/data/UFOs{}-{}.csv\".format(date_start, date_end)\n",
    "df = cleanTable(file=file)"
   ]
  },
  {
   "cell_type": "code",
   "execution_count": 3,
   "metadata": {},
   "outputs": [],
   "source": [
    "from shapely.ops import unary_union\n",
    "import pickle\n",
    "import geopandas as gpd\n",
    "\n",
    "states = gpd.read_file('../src/data/state.shp')\n",
    "# filter states to main USA body\n",
    "states = states.loc[~states.STATE.isin([\n",
    "    'United States Virgin Islands', \n",
    "    'Alaska', \n",
    "    'Hawaii', \n",
    "    'Commonwealth of the Northern Mariana Islands', \n",
    "    'Guam'])]\n",
    "\n",
    "if os.path.exists('data/US_body'):\n",
    "    # Load US_body from disc\n",
    "    with open('data/US_body', \"rb\") as poly_file:\n",
    "        US_body = pickle.load(poly_file)\n",
    "else:   \n",
    "    US_body = unary_union(states.geometry)\n",
    "    # Save polygon to disc\n",
    "    with open('data/US_body', \"wb\") as poly_file:\n",
    "        pickle.dump(US_body, poly_file, pickle.HIGHEST_PROTOCOL)"
   ]
  },
  {
   "cell_type": "code",
   "execution_count": 5,
   "metadata": {},
   "outputs": [
    {
     "data": {
      "text/plain": [
       "array([[-122.15556335,   38.05392456],\n",
       "       [-121.98082733,   37.55020142],\n",
       "       [-120.84700775,   38.68222427],\n",
       "       ...,\n",
       "       [ -85.37796783,   32.65088272],\n",
       "       [ -93.44268799,   45.20758438],\n",
       "       [ -74.91532898,   41.47310257]])"
      ]
     },
     "execution_count": 5,
     "metadata": {},
     "output_type": "execute_result"
    }
   ],
   "source": [
    "import numpy as np\n",
    "from inpoly import inpoly2\n",
    "\n",
    "coords = np.array(df.Coords.values.tolist())"
   ]
  },
  {
   "cell_type": "code",
   "execution_count": 6,
   "metadata": {},
   "outputs": [
    {
     "name": "stderr",
     "output_type": "stream",
     "text": [
      "c:\\Users\\bento\\OneDrive\\code_and_data\\ufo-from-vector-space\\env\\lib\\site-packages\\pandas\\core\\algorithms.py:474: ShapelyDeprecationWarning: Iteration over multi-part geometries is deprecated and will be removed in Shapely 2.0. Use the `geoms` property to access the constituent parts of a multi-part geometry.\n",
      "  values = _ensure_arraylike(list(values))\n",
      "c:\\Users\\bento\\OneDrive\\code_and_data\\ufo-from-vector-space\\env\\lib\\site-packages\\pandas\\core\\algorithms.py:474: ShapelyDeprecationWarning: __len__ for multi-part geometries is deprecated and will be removed in Shapely 2.0. Check the length of the `geoms` property instead to get the  number of parts of a multi-part geometry.\n",
      "  values = _ensure_arraylike(list(values))\n",
      "Exception ignored in: <function BaseGeometry.__del__ at 0x00000271E1921630>\n",
      "Traceback (most recent call last):\n",
      "  File \"c:\\Users\\bento\\OneDrive\\code_and_data\\ufo-from-vector-space\\env\\lib\\site-packages\\shapely\\geometry\\base.py\", line 209, in __del__\n",
      "    self._empty(val=None)\n",
      "  File \"c:\\Users\\bento\\OneDrive\\code_and_data\\ufo-from-vector-space\\env\\lib\\site-packages\\shapely\\geometry\\base.py\", line 191, in _empty\n",
      "    def _empty(self, val=EMPTY):\n",
      "KeyboardInterrupt: \n"
     ]
    }
   ],
   "source": [
    "from shapely.geometry import Point\n",
    "df.loc[df.Coords.apply(Point).isin(US_body)]"
   ]
  },
  {
   "cell_type": "code",
   "execution_count": null,
   "metadata": {},
   "outputs": [],
   "source": [
    "from shapely.geometry import Point\n",
    "from geopandas import GeoDataFrame\n",
    "import matplotlib.pyplot as plt\n",
    "\n",
    "geometry = [Point(c) for c in df.Coords]\n",
    "gdf = GeoDataFrame(df, geometry=geometry)\n",
    "gdf.plot(ax=states.plot(figsize=(15,15)), marker='o', color='red', markersize=15)\n",
    "plt.show()"
   ]
  }
 ],
 "metadata": {
  "kernelspec": {
   "display_name": "Python 3.10.5 ('env': venv)",
   "language": "python",
   "name": "python3"
  },
  "language_info": {
   "codemirror_mode": {
    "name": "ipython",
    "version": 3
   },
   "file_extension": ".py",
   "mimetype": "text/x-python",
   "name": "python",
   "nbconvert_exporter": "python",
   "pygments_lexer": "ipython3",
   "version": "3.10.5"
  },
  "orig_nbformat": 4,
  "vscode": {
   "interpreter": {
    "hash": "9a47ca1621270cbc6fb520188fea3a64b5bd4a4cf0be2b4b53c05088d56439db"
   }
  }
 },
 "nbformat": 4,
 "nbformat_minor": 2
}
