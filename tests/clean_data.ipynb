{
 "cells": [
  {
   "cell_type": "code",
   "execution_count": 45,
   "metadata": {},
   "outputs": [
    {
     "ename": "TypeError",
     "evalue": "'<' not supported between instances of 'float' and 'str'",
     "output_type": "error",
     "traceback": [
      "\u001b[1;31m---------------------------------------------------------------------------\u001b[0m",
      "\u001b[1;31mTypeError\u001b[0m                                 Traceback (most recent call last)",
      "\u001b[1;32mc:\\Users\\bento\\OneDrive\\code_and_data\\ufo-from-vector-space\\tests\\clean_data.ipynb Cell 1\u001b[0m in \u001b[0;36m<cell line: 47>\u001b[1;34m()\u001b[0m\n\u001b[0;32m     <a href='vscode-notebook-cell:/c%3A/Users/bento/OneDrive/code_and_data/ufo-from-vector-space/tests/clean_data.ipynb#W0sZmlsZQ%3D%3D?line=44'>45</a>\u001b[0m date_end \u001b[39m=\u001b[39m \u001b[39m'\u001b[39m\u001b[39m202206\u001b[39m\u001b[39m'\u001b[39m\n\u001b[0;32m     <a href='vscode-notebook-cell:/c%3A/Users/bento/OneDrive/code_and_data/ufo-from-vector-space/tests/clean_data.ipynb#W0sZmlsZQ%3D%3D?line=45'>46</a>\u001b[0m file \u001b[39m=\u001b[39m \u001b[39m\"\u001b[39m\u001b[39m../src/data/UFOs\u001b[39m\u001b[39m{}\u001b[39;00m\u001b[39m-\u001b[39m\u001b[39m{}\u001b[39;00m\u001b[39m.csv\u001b[39m\u001b[39m\"\u001b[39m\u001b[39m.\u001b[39mformat(date_start, date_end)\n\u001b[1;32m---> <a href='vscode-notebook-cell:/c%3A/Users/bento/OneDrive/code_and_data/ufo-from-vector-space/tests/clean_data.ipynb#W0sZmlsZQ%3D%3D?line=46'>47</a>\u001b[0m df \u001b[39m=\u001b[39m cleanTable(file\u001b[39m=\u001b[39;49mfile)\n\u001b[0;32m     <a href='vscode-notebook-cell:/c%3A/Users/bento/OneDrive/code_and_data/ufo-from-vector-space/tests/clean_data.ipynb#W0sZmlsZQ%3D%3D?line=47'>48</a>\u001b[0m df\n",
      "\u001b[1;32mc:\\Users\\bento\\OneDrive\\code_and_data\\ufo-from-vector-space\\tests\\clean_data.ipynb Cell 1\u001b[0m in \u001b[0;36mcleanTable\u001b[1;34m(file)\u001b[0m\n\u001b[0;32m     <a href='vscode-notebook-cell:/c%3A/Users/bento/OneDrive/code_and_data/ufo-from-vector-space/tests/clean_data.ipynb#W0sZmlsZQ%3D%3D?line=35'>36</a>\u001b[0m df[\u001b[39m\"\u001b[39m\u001b[39mUpdated_Duration\u001b[39m\u001b[39m\"\u001b[39m] \u001b[39m=\u001b[39m df\u001b[39m.\u001b[39mDuration\u001b[39m.\u001b[39mmap(durations)\u001b[39m.\u001b[39mreplace({\u001b[39m'\u001b[39m\u001b[39mnan\u001b[39m\u001b[39m'\u001b[39m: np\u001b[39m.\u001b[39mnan})\n\u001b[0;32m     <a href='vscode-notebook-cell:/c%3A/Users/bento/OneDrive/code_and_data/ufo-from-vector-space/tests/clean_data.ipynb#W0sZmlsZQ%3D%3D?line=36'>37</a>\u001b[0m \u001b[39m# df.loc[df.Updated_Duration.isna() & ~df.Duration.isna()]\\\u001b[39;00m\n\u001b[0;32m     <a href='vscode-notebook-cell:/c%3A/Users/bento/OneDrive/code_and_data/ufo-from-vector-space/tests/clean_data.ipynb#W0sZmlsZQ%3D%3D?line=37'>38</a>\u001b[0m \u001b[39m#  [['Timestamp', 'Posted', 'Duration', 'Updated_Duration', 'Summary']]\\\u001b[39;00m\n\u001b[0;32m     <a href='vscode-notebook-cell:/c%3A/Users/bento/OneDrive/code_and_data/ufo-from-vector-space/tests/clean_data.ipynb#W0sZmlsZQ%3D%3D?line=38'>39</a>\u001b[0m \u001b[39m#     .to_csv('data/null_duration.csv', index=False)\u001b[39;00m\n\u001b[1;32m---> <a href='vscode-notebook-cell:/c%3A/Users/bento/OneDrive/code_and_data/ufo-from-vector-space/tests/clean_data.ipynb#W0sZmlsZQ%3D%3D?line=39'>40</a>\u001b[0m df\u001b[39m.\u001b[39mloc[df\u001b[39m.\u001b[39mUpdated_Duration\u001b[39m.\u001b[39misna(), \u001b[39m'\u001b[39m\u001b[39mUpdated_Duration\u001b[39m\u001b[39m'\u001b[39m] \u001b[39m=\u001b[39m np\u001b[39m.\u001b[39;49mmedian(df\u001b[39m.\u001b[39;49mUpdated_Duration\u001b[39m.\u001b[39;49mvalues)\n\u001b[0;32m     <a href='vscode-notebook-cell:/c%3A/Users/bento/OneDrive/code_and_data/ufo-from-vector-space/tests/clean_data.ipynb#W0sZmlsZQ%3D%3D?line=40'>41</a>\u001b[0m \u001b[39mreturn\u001b[39;00m df\n",
      "File \u001b[1;32m<__array_function__ internals>:180\u001b[0m, in \u001b[0;36mmedian\u001b[1;34m(*args, **kwargs)\u001b[0m\n",
      "File \u001b[1;32mc:\\Users\\bento\\OneDrive\\code_and_data\\ufo-from-vector-space\\env\\lib\\site-packages\\numpy\\lib\\function_base.py:3816\u001b[0m, in \u001b[0;36mmedian\u001b[1;34m(a, axis, out, overwrite_input, keepdims)\u001b[0m\n\u001b[0;32m   3734\u001b[0m \u001b[39m@array_function_dispatch\u001b[39m(_median_dispatcher)\n\u001b[0;32m   3735\u001b[0m \u001b[39mdef\u001b[39;00m \u001b[39mmedian\u001b[39m(a, axis\u001b[39m=\u001b[39m\u001b[39mNone\u001b[39;00m, out\u001b[39m=\u001b[39m\u001b[39mNone\u001b[39;00m, overwrite_input\u001b[39m=\u001b[39m\u001b[39mFalse\u001b[39;00m, keepdims\u001b[39m=\u001b[39m\u001b[39mFalse\u001b[39;00m):\n\u001b[0;32m   3736\u001b[0m     \u001b[39m\"\"\"\u001b[39;00m\n\u001b[0;32m   3737\u001b[0m \u001b[39m    Compute the median along the specified axis.\u001b[39;00m\n\u001b[0;32m   3738\u001b[0m \n\u001b[1;32m   (...)\u001b[0m\n\u001b[0;32m   3814\u001b[0m \n\u001b[0;32m   3815\u001b[0m \u001b[39m    \"\"\"\u001b[39;00m\n\u001b[1;32m-> 3816\u001b[0m     r, k \u001b[39m=\u001b[39m _ureduce(a, func\u001b[39m=\u001b[39;49m_median, axis\u001b[39m=\u001b[39;49maxis, out\u001b[39m=\u001b[39;49mout,\n\u001b[0;32m   3817\u001b[0m                     overwrite_input\u001b[39m=\u001b[39;49moverwrite_input)\n\u001b[0;32m   3818\u001b[0m     \u001b[39mif\u001b[39;00m keepdims:\n\u001b[0;32m   3819\u001b[0m         \u001b[39mreturn\u001b[39;00m r\u001b[39m.\u001b[39mreshape(k)\n",
      "File \u001b[1;32mc:\\Users\\bento\\OneDrive\\code_and_data\\ufo-from-vector-space\\env\\lib\\site-packages\\numpy\\lib\\function_base.py:3725\u001b[0m, in \u001b[0;36m_ureduce\u001b[1;34m(a, func, **kwargs)\u001b[0m\n\u001b[0;32m   3722\u001b[0m \u001b[39melse\u001b[39;00m:\n\u001b[0;32m   3723\u001b[0m     keepdim \u001b[39m=\u001b[39m (\u001b[39m1\u001b[39m,) \u001b[39m*\u001b[39m a\u001b[39m.\u001b[39mndim\n\u001b[1;32m-> 3725\u001b[0m r \u001b[39m=\u001b[39m func(a, \u001b[39m*\u001b[39m\u001b[39m*\u001b[39mkwargs)\n\u001b[0;32m   3726\u001b[0m \u001b[39mreturn\u001b[39;00m r, keepdim\n",
      "File \u001b[1;32mc:\\Users\\bento\\OneDrive\\code_and_data\\ufo-from-vector-space\\env\\lib\\site-packages\\numpy\\lib\\function_base.py:3851\u001b[0m, in \u001b[0;36m_median\u001b[1;34m(a, axis, out, overwrite_input)\u001b[0m\n\u001b[0;32m   3849\u001b[0m         part \u001b[39m=\u001b[39m a\n\u001b[0;32m   3850\u001b[0m \u001b[39melse\u001b[39;00m:\n\u001b[1;32m-> 3851\u001b[0m     part \u001b[39m=\u001b[39m partition(a, kth, axis\u001b[39m=\u001b[39;49maxis)\n\u001b[0;32m   3853\u001b[0m \u001b[39mif\u001b[39;00m part\u001b[39m.\u001b[39mshape \u001b[39m==\u001b[39m ():\n\u001b[0;32m   3854\u001b[0m     \u001b[39m# make 0-D arrays work\u001b[39;00m\n\u001b[0;32m   3855\u001b[0m     \u001b[39mreturn\u001b[39;00m part\u001b[39m.\u001b[39mitem()\n",
      "File \u001b[1;32m<__array_function__ internals>:180\u001b[0m, in \u001b[0;36mpartition\u001b[1;34m(*args, **kwargs)\u001b[0m\n",
      "File \u001b[1;32mc:\\Users\\bento\\OneDrive\\code_and_data\\ufo-from-vector-space\\env\\lib\\site-packages\\numpy\\core\\fromnumeric.py:758\u001b[0m, in \u001b[0;36mpartition\u001b[1;34m(a, kth, axis, kind, order)\u001b[0m\n\u001b[0;32m    756\u001b[0m \u001b[39melse\u001b[39;00m:\n\u001b[0;32m    757\u001b[0m     a \u001b[39m=\u001b[39m asanyarray(a)\u001b[39m.\u001b[39mcopy(order\u001b[39m=\u001b[39m\u001b[39m\"\u001b[39m\u001b[39mK\u001b[39m\u001b[39m\"\u001b[39m)\n\u001b[1;32m--> 758\u001b[0m a\u001b[39m.\u001b[39;49mpartition(kth, axis\u001b[39m=\u001b[39;49maxis, kind\u001b[39m=\u001b[39;49mkind, order\u001b[39m=\u001b[39;49morder)\n\u001b[0;32m    759\u001b[0m \u001b[39mreturn\u001b[39;00m a\n",
      "\u001b[1;31mTypeError\u001b[0m: '<' not supported between instances of 'float' and 'str'"
     ]
    }
   ],
   "source": [
    "import pandas as pd\n",
    "import numpy as np\n",
    "from datetime import datetime\n",
    "import re\n",
    "import json\n",
    "\n",
    "\n",
    "def cleanTable(file: str):\n",
    "    \"\"\"\n",
    "    Clean dataframe of UFO sightings\n",
    "    \"\"\"\n",
    "    # read data\n",
    "    df = pd.read_csv(\n",
    "        file, \n",
    "        parse_dates=['Date / Time', 'Posted'],\n",
    "        dtype={\n",
    "            'Country':str, \n",
    "            'State':str, \n",
    "            'City':str,\n",
    "            'Shape':str, \n",
    "            'Duration':str,\n",
    "            'Summary':str,\n",
    "            'Images':str\n",
    "            })\n",
    "    # filter columns; rename\n",
    "    df = df.rename(columns={'Date / Time': 'Timestamp'})\n",
    "    # filter to USA (excluding minor outlying islands)\n",
    "    df = df.loc[df.Country == 'USA'].reset_index(\n",
    "        drop=True).drop(columns='Country')\n",
    "    \n",
    "    # read json duration data\n",
    "    with open('../src/data/durations.json') as f:\n",
    "        durations = json.loads(f.read())\n",
    "        f.close()\n",
    "    # map to `Updated_Duration`; replace 'nan' with np.nan\n",
    "    df[\"Updated_Duration\"] = df.Duration.map(durations).replace({'nan': np.nan})\n",
    "    # df.loc[df.Updated_Duration.isna() & ~df.Duration.isna()]\\\n",
    "    #  [['Timestamp', 'Posted', 'Duration', 'Updated_Duration', 'Summary']]\\\n",
    "    #     .to_csv('data/null_duration.csv', index=False)\n",
    "    # df.loc[df.Updated_Duration.isna(), 'Updated_Duration'] = np.median(df.Updated_Duration.values)\n",
    "    return df\n",
    "\n",
    "\n",
    "date_start = '202107'\n",
    "date_end = '202206'\n",
    "file = \"../src/data/UFOs{}-{}.csv\".format(date_start, date_end)\n",
    "df = cleanTable(file=file)\n",
    "df"
   ]
  }
 ],
 "metadata": {
  "kernelspec": {
   "display_name": "Python 3.10.5 ('env': venv)",
   "language": "python",
   "name": "python3"
  },
  "language_info": {
   "codemirror_mode": {
    "name": "ipython",
    "version": 3
   },
   "file_extension": ".py",
   "mimetype": "text/x-python",
   "name": "python",
   "nbconvert_exporter": "python",
   "pygments_lexer": "ipython3",
   "version": "3.10.5"
  },
  "orig_nbformat": 4,
  "vscode": {
   "interpreter": {
    "hash": "9a47ca1621270cbc6fb520188fea3a64b5bd4a4cf0be2b4b53c05088d56439db"
   }
  }
 },
 "nbformat": 4,
 "nbformat_minor": 2
}
